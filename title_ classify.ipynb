{
 "cells": [
  {
   "cell_type": "code",
   "execution_count": null,
   "id": "244a9368",
   "metadata": {},
   "outputs": [],
   "source": [
    "import gensim.downloader as api\n",
    "wv = api.load('word2vec-google-news-300')"
   ]
  },
  {
   "cell_type": "code",
   "execution_count": null,
   "id": "84f259f0",
   "metadata": {},
   "outputs": [],
   "source": [
    "freq_file = \"output/title_freq.txt\""
   ]
  },
  {
   "cell_type": "code",
   "execution_count": null,
   "id": "11b08239",
   "metadata": {},
   "outputs": [],
   "source": [
    "import re\n",
    "def data_clean(text):\n",
    "    REGEX = re.compile(\"[^ ^a-zA-Z]\")\n",
    "\n",
    "    # remove non-alphabetical characters\n",
    "    text = re.sub(REGEX, '', text)\n",
    "    # remove extra spaces\n",
    "    text = text.strip()\n",
    "    return text"
   ]
  },
  {
   "cell_type": "code",
   "execution_count": null,
   "id": "6d2fe808",
   "metadata": {},
   "outputs": [],
   "source": [
    "all_titles = []\n",
    "with open(freq_file, 'r') as f:\n",
    "    for line in f:\n",
    "        title, count = line.strip().split('_')\n",
    "        title = data_clean(title)\n",
    "        all_titles.append(title.strip())"
   ]
  },
  {
   "cell_type": "code",
   "execution_count": null,
   "id": "f4682c43",
   "metadata": {},
   "outputs": [],
   "source": [
    "from sklearn import feature_extraction  \n",
    "from sklearn.feature_extraction.text import TfidfTransformer  \n",
    "from sklearn.feature_extraction.text import CountVectorizer\n",
    "\n",
    "vectorizer = CountVectorizer()\n",
    "transformer = TfidfTransformer()\n",
    "tfidf = transformer.fit_transform(vectorizer.fit_transform(all_titles))\n",
    "weight = tfidf.toarray()"
   ]
  },
  {
   "cell_type": "code",
   "execution_count": null,
   "id": "5e0085f8",
   "metadata": {
    "scrolled": true
   },
   "outputs": [],
   "source": [
    "import pandas as pd\n",
    "df = pd.DataFrame(weight)\n",
    "print(df.head())"
   ]
  },
  {
   "cell_type": "code",
   "execution_count": null,
   "id": "743233ff",
   "metadata": {},
   "outputs": [],
   "source": [
    "import matplotlib.pyplot as plt\n",
    "from sklearn.cluster import KMeans\n",
    "\n",
    "max_cluster_num = 15\n",
    "kmeans_kwargs = {\n",
    "\"init\": \"random\",\n",
    "\"n_init\": 10,\n",
    "\"random_state\": 1,\n",
    "}\n",
    "ssd = []\n",
    "for k in range(1, max_cluster_num):\n",
    "    kmeans = KMeans(n_clusters=k, **kmeans_kwargs)\n",
    "    kmeans.fit(df)\n",
    "    ssd.append(kmeans.inertia_)\n",
    "\n",
    "#visualize results\n",
    "plt.plot(range(1, max_cluster_num), ssd, marker=\"o\")\n",
    "plt.xticks(range(1, max_cluster_num))\n",
    "plt.xlabel(\"Number of Clusters\")\n",
    "plt.ylabel(\"SSD\")\n",
    "plt.show()"
   ]
  },
  {
   "cell_type": "code",
   "execution_count": null,
   "id": "a31192f4",
   "metadata": {},
   "outputs": [],
   "source": [
    "kmeans = KMeans(init=\"random\", n_clusters=9, n_init=10, random_state=1)\n",
    "\n",
    "#fit k-means algorithm to data\n",
    "kmeans.fit(df)\n",
    "\n",
    "#view cluster assignments for each observation\n",
    "kmeans.labels_\n",
    "df.insert(0, \"Title\", all_titles)\n",
    "df.insert(1, \"Label\", kmeans.labels_)"
   ]
  },
  {
   "cell_type": "code",
   "execution_count": null,
   "id": "8ea189ce",
   "metadata": {},
   "outputs": [],
   "source": [
    "df.iloc[0:,0:2]"
   ]
  },
  {
   "cell_type": "code",
   "execution_count": null,
   "id": "51d9ee4a",
   "metadata": {},
   "outputs": [],
   "source": [
    "# applying groupby() function to\n",
    "# group the data on team value.\n",
    "gk = df.groupby('Label')"
   ]
  },
  {
   "cell_type": "code",
   "execution_count": null,
   "id": "0e4479c1",
   "metadata": {},
   "outputs": [],
   "source": [
    "gk.get_group(0)"
   ]
  },
  {
   "cell_type": "code",
   "execution_count": null,
   "id": "33b25214",
   "metadata": {},
   "outputs": [],
   "source": [
    "gk.get_group(1)"
   ]
  },
  {
   "cell_type": "code",
   "execution_count": null,
   "id": "996398a1",
   "metadata": {},
   "outputs": [],
   "source": [
    "gk.get_group(2)"
   ]
  },
  {
   "cell_type": "code",
   "execution_count": null,
   "id": "bb7617ac",
   "metadata": {},
   "outputs": [],
   "source": [
    "gk.get_group(3)"
   ]
  },
  {
   "cell_type": "code",
   "execution_count": null,
   "id": "8db7d87a",
   "metadata": {},
   "outputs": [],
   "source": [
    "gk.get_group(4)"
   ]
  },
  {
   "cell_type": "code",
   "execution_count": null,
   "id": "9f34b1a4",
   "metadata": {},
   "outputs": [],
   "source": [
    "gk.get_group(5)"
   ]
  },
  {
   "cell_type": "code",
   "execution_count": null,
   "id": "25a7c21a",
   "metadata": {},
   "outputs": [],
   "source": [
    "gk.get_group(6)"
   ]
  },
  {
   "cell_type": "code",
   "execution_count": null,
   "id": "5d8d20cf",
   "metadata": {},
   "outputs": [],
   "source": [
    "gk.get_group(7)"
   ]
  }
 ],
 "metadata": {
  "kernelspec": {
   "display_name": "Python 3 (ipykernel)",
   "language": "python",
   "name": "python3"
  },
  "language_info": {
   "codemirror_mode": {
    "name": "ipython",
    "version": 3
   },
   "file_extension": ".py",
   "mimetype": "text/x-python",
   "name": "python",
   "nbconvert_exporter": "python",
   "pygments_lexer": "ipython3",
   "version": "3.9.13"
  }
 },
 "nbformat": 4,
 "nbformat_minor": 5
}
