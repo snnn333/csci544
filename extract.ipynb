{
 "cells": [
  {
   "cell_type": "code",
   "execution_count": 1,
   "id": "4ea452e7",
   "metadata": {},
   "outputs": [
    {
     "name": "stdout",
     "output_type": "stream",
     "text": [
      "zsh:1: command not found: pip\r\n"
     ]
    }
   ],
   "source": [
    "# pip install -q \"transformers==4.9.2\""
   ]
  },
  {
   "cell_type": "code",
   "execution_count": null,
   "id": "5b2536e8",
   "metadata": {},
   "outputs": [],
   "source": [
    "import torch\n",
    "from transformers import BertForQuestionAnswering\n",
    "from transformers import BertTokenizer"
   ]
  },
  {
   "cell_type": "code",
   "execution_count": null,
   "id": "24035bc5",
   "metadata": {},
   "outputs": [],
   "source": [
    "#Model\n",
    "model = BertForQuestionAnswering.from_pretrained('bert-large-uncased-whole-word-masking-finetuned-squad')\n",
    "\n",
    "#Tokenizer\n",
    "tokenizer = BertTokenizer.from_pretrained('bert-large-uncased-whole-word-masking-finetuned-squad')"
   ]
  },
  {
   "cell_type": "code",
   "execution_count": null,
   "id": "3e13d7c3",
   "metadata": {},
   "outputs": [],
   "source": [
    "def bert_model(question, context):\n",
    "    encoding = tokenizer.encode_plus(text=question,text_pair=context)\n",
    "    inputs = encoding['input_ids']  #Token embeddings\n",
    "    sentence_embedding = encoding['token_type_ids']  #Segment embeddings\n",
    "    tokens = tokenizer.convert_ids_to_tokens(inputs) #input tokens\n",
    "\n",
    "    output = model(input_ids=torch.tensor([inputs]), token_type_ids=torch.tensor([sentence_embedding]))\n",
    "    start_index = torch.argmax(output.start_logits)\n",
    "\n",
    "    end_index = torch.argmax(output.end_logits)\n",
    "\n",
    "    answer = ' '.join(tokens[start_index:end_index+1])\n",
    "\n",
    "    corrected_answer = ''\n",
    "\n",
    "    for word in answer.split():\n",
    "    \n",
    "        #If it's a subword token\n",
    "        if word[0:2] == '##':\n",
    "            corrected_answer += word[2:]\n",
    "        else:\n",
    "            corrected_answer += ' ' + word\n",
    "\n",
    "    return corrected_answer"
   ]
  },
  {
   "cell_type": "code",
   "execution_count": 2,
   "id": "cc51951f",
   "metadata": {},
   "outputs": [],
   "source": [
    "cont_file = \"output/resume_content.txt\""
   ]
  },
  {
   "cell_type": "code",
   "execution_count": 4,
   "id": "da1e858a",
   "metadata": {},
   "outputs": [
    {
     "name": "stdout",
     "output_type": "stream",
     "text": [
      "{'id': '16852973', 'title': 'Summary', 'content': ['Dedicated Customer Service Manager with 15+ years of experience in Hospitality and Customer Service Management.', 'Respected builder and leader of customer-focused teams; strives to instill a shared, enthusiastic commitment to customer service.'], 'category': 'HR'}\n",
      "{'id': '16852973', 'title': 'Highlights', 'content': ['Focused on customer satisfaction', 'Team management', 'Marketing savvy', 'Conflict resolution techniques', 'Training and development', 'Skilled multi-tasker', 'Client relations specialist'], 'category': 'HR'}\n",
      "{'id': '16852973', 'title': 'Accomplishments', 'content': ['Missouri DOT Supervisor Training Certification', 'Certified by IHG in Customer Loyalty and Marketing by Segment', 'Hilton Worldwide General Manager Training Certification', 'Accomplished Trainer for cross server hospitality systems such as', 'Hilton OnQ', ',', 'Micros', 'Opera PMS', ', Fidelio', 'OPERA', 'Reservation System (ORS)', ',', 'Holidex', 'Completed courses and seminars in customer service, sales strategies, inventory control, loss prevention, safety, time management, leadership and performance assessment.'], 'category': 'HR'}\n",
      "{'id': '16852973', 'title': 'Experience', 'content': ['HR Administrator/Marketing Associate\\n\\nHR Administrator', 'Dec 2013', 'to', 'Current', 'Company Name', '－', 'City', ',', 'State', 'Helps to develop policies, directs and coordinates activities such as employment, compensation, labor relations, benefits, training, and employee services.', 'Prepares employee separation notices and related documentation', 'Keeps records of benefits plans participation such as insurance and pension plan, personnel transactions such as hires, promotions, transfers, performance reviews, and terminations, and employee statistics for government reporting.', 'Advises management in appropriate resolution of employee relations issues.', 'Administers benefits programs such as life, health, dental, insurance, pension plans, vacation, sick leave, leave of absence, and employee assistance.', 'Marketing Associate', 'Designed and created marketing collateral for sales meetings, trade shows and company executives.', 'Managed the in-house advertising program consisting of print and media collateral pieces.', \"Assisted in the complete design and launch of the company's website in 2 months.\", 'Created an official company page on Facebook to facilitate interaction with customers.', 'Analyzed ratings and programming features of competitors to evaluate the effectiveness of marketing strategies.', 'Advanced Medical Claims Analyst', 'Mar 2012', 'to', 'Dec 2013', 'Company Name', '－', 'City', ',', 'State', 'Reviewed medical bills for the accuracy of the treatments, tests, and hospital stays prior to sanctioning the claims.', 'Trained to interpret the codes (ICD-9, CPT) and terminology commonly used in medical billing to fully understand the paperwork that is submitted by healthcare providers.', 'Required to have organizational and analytical skills as well as computer skills, knowledge of medical terminology and procedures, statistics, billing standards, data analysis and laws regarding medical billing.', 'Assistant General Manager', 'Jun 2010', 'to', 'Dec 2010', 'Company Name', '－', 'City', ',', 'State', 'Performed duties including but not limited to, budgeting and financial management, accounting, human resources, payroll and purchasing.', 'Established and maintained close working relationships with all departments of the hotel to ensure maximum operation, productivity, morale and guest service.', 'Handled daily operations and reported directly to the corporate office.', 'Hired and trained staff on overall objectives and goals with an emphasis on high customer service.', 'Marketing and Advertising, working on public relations with the media, government and local businesses and Chamber of Commerce.', 'Executive Support / Marketing Assistant', 'Jul 2007', 'to', 'Jun 2010', 'Company Name', '－', 'City', ',', 'State', 'Provided assistance to various department heads - Executive, Marketing, Customer Service, Human Resources.', 'Managed front-end operations to ensure friendly and efficient transactions.', 'Ensured the swift resolution of customer issues to preserve customer loyalty while complying with company policies.', 'Exemplified the second-to-none customer service delivery in all interactions with customers and potential clients.', 'Reservation & Front Office Manager', 'Jun 2004', 'to', 'Jul 2007', 'Company Name', '－', 'City', ',', 'State', 'Owner/ Partner', 'Dec 2001', 'to', 'May 2004', 'Company Name', '－', 'City', ',', 'State', 'Price Integrity Coordinator', 'Aug 1999', 'to', 'Dec 2001', 'Company Name', '－', 'City', ',', 'State'], 'category': 'HR'}\n",
      "{'id': '16852973', 'title': 'Education', 'content': ['N/A', ',', 'Business Administration', '1999', 'Jefferson College', '－', 'City', ',', 'State', 'Business Administration', 'Marketing / Advertising', 'High School Diploma', ',', 'College Prep. studies', '1998', 'Sainte Genevieve Senior High', '－', 'City', ',', 'State', 'Awarded American Shrubel Leadership Scholarship to Jefferson College'], 'category': 'HR'}\n",
      "{'id': '16852973', 'title': 'Skills', 'content': ['Accounting, ads, advertising, analytical skills, benefits, billing, budgeting, clients, Customer Service, data analysis, delivery, documentation, employee relations, financial management, government relations, Human Resources, insurance, labor relations, layout, Marketing, marketing collateral, medical billing, medical terminology, office, organizational, payroll, performance reviews, personnel, policies, posters, presentations, public relations, purchasing, reporting, statistics, website.'], 'category': 'HR'}\n"
     ]
    }
   ],
   "source": [
    "from ast import literal_eval\n",
    "out = open(\"output/education.txt\", 'w+')\n",
    "with open(cont_file, 'r') as f:\n",
    "    for line in f:\n",
    "        content = list(literal_eval(line))\n",
    "        for sec in content:\n",
    "            title = sec['title']\n",
    "            id = sec['id']\n",
    "            if title == \"Education\":\n",
    "                context = ' '.join(sec['content'])\n",
    "                ques_college = \"what is your college?\"\n",
    "                ques_major = \"what is your major?\"\n",
    "                college = bert_model(ques_college, context)\n",
    "                major = bert_model(ques_major, context)\n",
    "                out.write('{}, {}, {}, {}\\n'.format(id, college, major,context))"
   ]
  },
  {
   "cell_type": "code",
   "execution_count": null,
   "id": "a02a321b",
   "metadata": {},
   "outputs": [],
   "source": []
  }
 ],
 "metadata": {
  "kernelspec": {
   "display_name": "Python 3 (ipykernel)",
   "language": "python",
   "name": "python3"
  },
  "language_info": {
   "codemirror_mode": {
    "name": "ipython",
    "version": 3
   },
   "file_extension": ".py",
   "mimetype": "text/x-python",
   "name": "python",
   "nbconvert_exporter": "python",
   "pygments_lexer": "ipython3",
   "version": "3.9.13"
  }
 },
 "nbformat": 4,
 "nbformat_minor": 5
}
